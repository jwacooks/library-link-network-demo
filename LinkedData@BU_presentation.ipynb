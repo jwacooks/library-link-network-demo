{
 "cells": [
  {
   "cell_type": "code",
   "execution_count": 2,
   "metadata": {
    "collapsed": false,
    "nbpresent": {
     "id": "936c688c-c137-407a-a056-3e0558c37625"
    },
    "slideshow": {
     "slide_type": "skip"
    }
   },
   "outputs": [
    {
     "name": "stdout",
     "output_type": "stream",
     "text": [
      "/Volumes/jwa_drive2/Google Drive/git/zepheira/consumer\n"
     ]
    },
    {
     "data": {
      "text/plain": [
       "{'scroll': True,\n",
       " 'start_slideshow_at': 'selected',\n",
       " 'theme': 'solarized',\n",
       " 'transition': 'slide'}"
      ]
     },
     "execution_count": 2,
     "metadata": {},
     "output_type": "execute_result"
    }
   ],
   "source": [
    "%cd '/Volumes/jwa_drive2/Google Drive/git/zepheira/consumer'\n",
    "from traitlets.config.manager import BaseJSONConfigManager\n",
    "path = \"/Users/jwa/anaconda/etc/jupyter/nbconfig\"\n",
    "cm = BaseJSONConfigManager(config_dir=path)\n",
    "cm.update('livereveal', {\n",
    "        'theme': 'solarized',\n",
    "        'transition': 'slide',\n",
    "        'scroll': True,\n",
    "        'start_slideshow_at': 'selected'\n",
    "})"
   ]
  },
  {
   "cell_type": "markdown",
   "metadata": {
    "nbpresent": {
     "id": "73a942bf-df2b-4e60-adf9-7f965b3178e8"
    },
    "slideshow": {
     "slide_type": "slide"
    }
   },
   "source": [
    "## publishing bibliographic data to the web\n",
    "### Working with the Library Link Network\n",
    "\n",
    "\n",
    "\n",
    "\n",
    "---\n",
    "#### Jack Ammerman < jwa@bu.edu>\n",
    "\n",
    "![](http://www.bu.edu/brand/files/2012/10/master_logo.gif)"
   ]
  },
  {
   "cell_type": "markdown",
   "metadata": {
    "nbpresent": {
     "id": "4744aed4-3ea1-4407-bac6-38c99f524847"
    },
    "slideshow": {
     "slide_type": "slide"
    }
   },
   "source": [
    "## Goals for Linked Data\n",
    "\n",
    "- Publish bib records to the web to allow discovery by Internet Search Engines\n",
    "- Allow for computational analysis of bibliographic data using a wide variety of tools\n",
    "- Use linked authority sources to enrich our bib records and address authority control\n",
    "- link to other data sources (DPLA, LinkedJazz, etc.)"
   ]
  },
  {
   "cell_type": "markdown",
   "metadata": {
    "nbpresent": {
     "id": "b5dab713-5600-4f7e-bab1-df6c8ede1fad"
    },
    "slideshow": {
     "slide_type": "slide"
    }
   },
   "source": [
    "## Began working with Zepheira in February 2016\n",
    "- Publish bib records to the web\n",
    "- Bibframe training for staff"
   ]
  },
  {
   "cell_type": "markdown",
   "metadata": {
    "nbpresent": {
     "id": "bba32401-d1f8-4850-8ae2-06ecc780d40d"
    },
    "slideshow": {
     "slide_type": "slide"
    }
   },
   "source": [
    "## Publishing Bib Records to the Web"
   ]
  },
  {
   "cell_type": "markdown",
   "metadata": {
    "nbpresent": {
     "id": "c7b6878f-a1de-4724-9fea-d4267a570caa"
    },
    "slideshow": {
     "slide_type": "slide"
    }
   },
   "source": [
    "## Publishing Bib Records to the Web\n",
    "### In Alma\n",
    "- Create one or more managed sets containing the records you want to publish\n"
   ]
  },
  {
   "cell_type": "markdown",
   "metadata": {
    "nbpresent": {
     "id": "0703a226-bde1-4542-88bb-3ea3fb7416ee"
    },
    "slideshow": {
     "slide_type": "subslide"
    }
   },
   "source": [
    "![](img/ManagedSets.png)"
   ]
  },
  {
   "cell_type": "markdown",
   "metadata": {
    "nbpresent": {
     "id": "609f29ab-dae3-4577-9191-0e9042567442"
    },
    "slideshow": {
     "slide_type": "subslide"
    }
   },
   "source": [
    "![](img/Results.png)"
   ]
  },
  {
   "cell_type": "markdown",
   "metadata": {
    "nbpresent": {
     "id": "b7ff04f8-0aa0-4484-8ff1-b5a3b7584a90"
    },
    "slideshow": {
     "slide_type": "slide"
    }
   },
   "source": [
    "## Publishing Bib Records to the Web\n",
    "### In Alma\n",
    "- Create one or more managed sets containing the records you want to publish\n",
    "- Create a General Publishing job(s) to publish the records to an FTP server"
   ]
  },
  {
   "cell_type": "markdown",
   "metadata": {
    "nbpresent": {
     "id": "4beae1e1-b94b-4069-8f37-f447b6821a24"
    },
    "slideshow": {
     "slide_type": "subslide"
    }
   },
   "source": [
    "![](img/ResourceManagementConfig.png)"
   ]
  },
  {
   "cell_type": "markdown",
   "metadata": {
    "nbpresent": {
     "id": "bd86bbcd-8e84-4014-90b1-b6cba7315752"
    },
    "slideshow": {
     "slide_type": "subslide"
    }
   },
   "source": [
    "![](img/ZepheiraPrintPublishingProfile1.png)"
   ]
  },
  {
   "cell_type": "markdown",
   "metadata": {
    "nbpresent": {
     "id": "c64ebf59-f640-46e2-acc5-bbc812896469"
    },
    "slideshow": {
     "slide_type": "subslide"
    }
   },
   "source": [
    "![](img/ZepheiraPrintPublishingProfile2.png)"
   ]
  },
  {
   "cell_type": "markdown",
   "metadata": {
    "nbpresent": {
     "id": "ae8ace07-b0f3-4852-86d8-1e440bdbba6d"
    },
    "slideshow": {
     "slide_type": "subslide"
    }
   },
   "source": [
    "## Normalization Rule Changes\n",
    "\n",
    "* Change 856 tags to 956 for links that are licensed resources (proxied)\n",
    "* Maintain 856 tags for open access resources\n",
    " * Internet Archive\n",
    " * HathiTrust\n",
    "* Remove 7xx fields that have a CKB number in subfield 'w'\n",
    " * ex: removeField \"770\" if (exists \"770.w.(CKB)*\")\n",
    "* Remove the \"(uri)\" prefix in subfield '0'\n",
    " * ex: ReplaceContents \"600.0.(uri) \" with \"\"\n"
   ]
  },
  {
   "cell_type": "markdown",
   "metadata": {
    "nbpresent": {
     "id": "1c7390cf-00b9-4ee9-a79d-86a7c0887cdc"
    },
    "slideshow": {
     "slide_type": "slide"
    }
   },
   "source": [
    "## Publishing Bib Records to the Web\n",
    "### Pre-Process each record via script\n",
    "+ Copy the published marcxml records to a computing cluster for processing\n",
    "+ Strip unwanted data/subfields\n",
    " - ex: (uri)\n",
    " - Any subfield that goes through the Ex Libris resolver \n",
    "   * ex: https://open-na.hosted.exlibrisgroup.com/resolver/wikidata/oclc/909538078\n"
   ]
  },
  {
   "cell_type": "markdown",
   "metadata": {
    "nbpresent": {
     "id": "68b54ab6-5a46-488a-bd36-44346c294eab"
    },
    "slideshow": {
     "slide_type": "subslide"
    }
   },
   "source": [
    "### Pre-Process each record via script\n",
    "+ Iterate through each field looking for any field with subfield 0 containing an LC authority number\n",
    " - ex: \t| http://id.loc.gov/authorities/names/n79091168\n",
    " - ex: | http://id.loc.gov/authorities/subjects/sh92006372\n",
    "+ If an LC authority number is found, check a lookup table for additional data sources that are associated with the LC authority.\n",
    "+ Add additional subfield 0 subfields when a source is found in the lookup table"
   ]
  },
  {
   "cell_type": "markdown",
   "metadata": {
    "nbpresent": {
     "id": "2bb91ae2-2663-4e59-8923-a3383cb22797"
    },
    "slideshow": {
     "slide_type": "slide"
    }
   },
   "source": [
    "**Exported from Alma:**\n",
    "\n",
    "        <datafield tag=\"700\" ind1=\"0\" ind2=\" \">\n",
    "            <subfield code=\"a\">Augustine,</subfield>\n",
    "            <subfield code=\"c\">Saint, Bishop of Hippo.</subfield>\n",
    "            <subfield code=\"0\">| http://id.loc.gov/authorities/names/n80126290</subfield>\n",
    "            <subfield code=\"0\">https://viaf.org/viaf/LC|n80126290</subfield>\n",
    "            <subfield code=\"0\">| http://id.worldcat.org/fast/61554</subfield\n",
    "        </datafield>\n",
    "        \n",
    "\n"
   ]
  },
  {
   "cell_type": "markdown",
   "metadata": {
    "nbpresent": {
     "id": "2ada651a-4526-4d2f-92b3-3c9aa4ee441c"
    },
    "slideshow": {
     "slide_type": "subslide"
    }
   },
   "source": [
    "**Enhanced:**\n",
    "\n",
    "        <datafield tag=\"700\" ind1=\"0\" ind2=\" \">\n",
    "            <subfield code=\"a\">Augustine,</subfield>\n",
    "            <subfield code=\"c\">Saint, Bishop of Hippo.</subfield>\n",
    "            <subfield code=\"0\">| http://id.loc.gov/authorities/names/n80126290</subfield>\n",
    "            <subfield code=\"0\">https://viaf.org/viaf/66806872</subfield>\n",
    "            <subfield code=\"0\">https://www.wikidata.org/wiki/Q8018</subfield>\n",
    "            <subfield code=\"0\">https://en.wikipedia.org/wiki/Augustine_of_Hippo</subfield>\n",
    "            <subfield code=\"0\">https://thesaurus.cerl.org/record/cnp01302049</subfield>\n",
    "            <subfield code=\"0\">| http://vocab.getty.edu/page/ulan/500104317</subfield>\n",
    "            <subfield code=\"0\">| http://plato.stanford.edu/entries/augustine</subfield>\n",
    "            <subfield code=\"0\">| http://id.worldcat.org/fast/61554</subfield>\n",
    "            <subfield code=\"0\">| http://www.imdb.com/nm1240835</subfield>\n",
    "        </datafield>\n",
    "        \n"
   ]
  },
  {
   "cell_type": "markdown",
   "metadata": {
    "nbpresent": {
     "id": "ff51c5ea-362f-42a9-987e-18498fb35833"
    },
    "slideshow": {
     "slide_type": "slide"
    }
   },
   "source": [
    "**Exported from Alma:**\n",
    "\n",
    "        <datafield tag=\"700\" ind1=\"1\" ind2=\" \">\n",
    "            <subfield code=\"a\">Souter, Alexander,</subfield>\n",
    "            <subfield code=\"d\">1873-1949.</subfield>\n",
    "            <subfield code=\"0\">| http://id.loc.gov/authorities/names/n88638867</subfield>\n",
    "            <subfield code=\"0\">https://viaf.org/viaf/LC|n88638867</subfield>\n",
    "        </datafield>\n",
    "\n"
   ]
  },
  {
   "cell_type": "markdown",
   "metadata": {
    "nbpresent": {
     "id": "08dcd005-5bc6-40b4-b35e-e773050687da"
    },
    "slideshow": {
     "slide_type": "subslide"
    }
   },
   "source": [
    "**Enhanced by script:**\n",
    "\n",
    "        <datafield tag=\"700\" ind1=\"1\" ind2=\" \">\n",
    "            <subfield code=\"a\">Souter, Alexander,</subfield>\n",
    "            <subfield code=\"d\">1873-1949.</subfield>\n",
    "            <subfield code=\"0\">| http://id.loc.gov/authorities/names/n88638867</subfield>\n",
    "            <subfield code=\"0\">https://viaf.org/viaf/1159</subfield>\n",
    "            <subfield code=\"0\">https://www.wikidata.org/wiki/Q4720124</subfield>\n",
    "            <subfield code=\"0\">https://en.wikipedia.org/wiki/Alexander_Souter</subfield>\n",
    "            <subfield code=\"0\">| http://www.npg.org.uk/collections/search/person/mp141707</subfield>\n",
    "            <subfield code=\"0\">| http://id.worldcat.org/fast/1485105</subfield>\n",
    "            <subfield code=\"0\">| http://www.oxforddnb.com/index/101075166</subfield>\n",
    "        </datafield>"
   ]
  },
  {
   "cell_type": "markdown",
   "metadata": {
    "nbpresent": {
     "id": "78dcef73-c2fc-49b2-9d37-8f90ea09247b"
    },
    "slideshow": {
     "slide_type": "slide"
    }
   },
   "source": [
    "|\t WikiData Property \t|\t Linked Data Source \t|\n",
    "|\t ----------------- \t|\t ----- \t|\n",
    "|\tP1649 \t|\tKMDb person ID \t|\n",
    "|\tP727 \t|\t Europeana ID \t|\n",
    "|\tP830 \t|\t Encyclopedia of Life ID \t|\n",
    "|\tP724 \t|\t Internet Archive ID \t|\n",
    "|\tP760 \t|\t DPLA ID \t|\n",
    "|\tP846 \t|\t Global Biodiversity Information Facility ID \t|\n",
    "|\tP214 \t|\t VIAF ID \t|\n",
    "|\tP1816 \t|\t National Portrait Gallery (London) person ID \t|\n",
    "|\tP245 \t|\t ULAN ID \t|\n",
    "|\tP243 \t|\t OCLC control number \t|\n",
    "|\tP1667 \t|\t TGN ID \t|\n",
    "|\tP957 \t|\t ISBN-10\t|\n",
    "|\tP1795\t|\tSmithsonian Amer Art Mus: person thesaurus id \t|\n",
    "|\tP345 \t|\t IMDb ID \t|\n",
    "|\tP496 \t|\t ORCID \t|\n",
    "|\tP2671 \t|\t Google Knowledge Graph identifier \t|\n",
    "|\tP1871 \t|\t CERL ID \t|\n",
    "|\tP486 \t|\t MeSH ID \t|\n",
    "|\tP1566 \t|\t GeoNames ID \t|\n"
   ]
  },
  {
   "cell_type": "markdown",
   "metadata": {
    "collapsed": true,
    "slideshow": {
     "slide_type": "subslide"
    }
   },
   "source": [
    "|\t WikiData Property \t|\t Linked Data Source \t|\n",
    "|\t ----------------- \t|\t ----- \t|\n",
    "|\tP2163 \t|\t FAST-ID \t|\n",
    "|\tP213 \t|\t ISNI \t|\n",
    "|\tP1157 \t|\t US Congress Bio ID \t|\n",
    "|\tP672 \t|\t MeSH Code \t|\n",
    "|\tP402 \t|\t OpenStreetMap Relation identifier \t|\n",
    "|\tP2036 \t|\t African Plant Database \t|\n",
    "|\tP1184 \t|\t handle \t|\n",
    "|\tP1417 \t|\t Encyclopaedia Britannica Online ID \t|\n",
    "|\twp \t|\t Wikipedia \t|\n",
    "|\twd \t|\t WikiData \t|\n",
    "|\tP3241 \t|\t Catholic Encyclopedia ID \t|\n",
    "|\tP212 \t|\t ISBN-13 \t|\n",
    "|\tP1960 \t|\t Google Scholar ID \t|\n",
    "|\tP1415 \t|\t Oxford Biography Index Number \t|\n",
    "|\tP236 \t|\t ISSN \t|\n",
    "|\tP1669 \t|\t CONA ID \t|\n",
    "|\tP1014 \t|\t AAT ID \t|\n",
    "|\tP1230 \t|\t JSTOR journal code \t|\n",
    "|\tP1144 \t|\t LCOC LCCN (bibliographic) \t|\n",
    "|\tP3123 \t|\t Stanford Encyclopedia of Philosophy ID \t|\n",
    "|\tP244 \t|\t LCAuth ID \t|\n",
    "|\tP1156 \t|\t Scopus Source ID \t|\n",
    "|\tP675 \t|\t Google Books ID \t|"
   ]
  },
  {
   "cell_type": "markdown",
   "metadata": {
    "slideshow": {
     "slide_type": "slide"
    }
   },
   "source": [
    "# Let's look at some of the records\n",
    "http://link.bu.edu"
   ]
  },
  {
   "cell_type": "code",
   "execution_count": null,
   "metadata": {
    "collapsed": true
   },
   "outputs": [],
   "source": []
  }
 ],
 "metadata": {
  "anaconda-cloud": {},
  "celltoolbar": "Slideshow",
  "kernelspec": {
   "display_name": "Python [conda root]",
   "language": "python",
   "name": "conda-root-py"
  },
  "language_info": {
   "codemirror_mode": {
    "name": "ipython",
    "version": 3
   },
   "file_extension": ".py",
   "mimetype": "text/x-python",
   "name": "python",
   "nbconvert_exporter": "python",
   "pygments_lexer": "ipython3",
   "version": "3.5.2"
  },
  "nbpresent": {
   "slides": {
    "0117d027-6ec6-4911-8d48-04fe423e3da5": {
     "id": "0117d027-6ec6-4911-8d48-04fe423e3da5",
     "prev": "decc8a1a-6f4e-4fe4-8d18-063944efe3c4",
     "regions": {
      "52f804f1-ce94-4052-91f7-d4784628008f": {
       "attrs": {
        "height": 0.8,
        "width": 0.8,
        "x": 0.1,
        "y": 0.1
       },
       "content": {
        "cell": "78dcef73-c2fc-49b2-9d37-8f90ea09247b",
        "part": "whole"
       },
       "id": "52f804f1-ce94-4052-91f7-d4784628008f"
      },
      "e5b7c31e-578c-4433-87e9-a6eb0a594b48": {
       "attrs": {
        "height": 0.4,
        "width": 0.8,
        "x": 0.1,
        "y": 0.5
       },
       "content": {
        "cell": "ed793a10-9576-4e0f-bb9a-387bf2a06d0c",
        "part": "whole"
       },
       "id": "e5b7c31e-578c-4433-87e9-a6eb0a594b48"
      }
     }
    },
    "01c8bf34-0198-4a0b-8903-6abb2adc514a": {
     "id": "01c8bf34-0198-4a0b-8903-6abb2adc514a",
     "prev": "6c7c24f8-0722-4b3b-bdec-effaafc814fe",
     "regions": {
      "c4f6da7a-51c2-4147-9add-c9d13568e7e0": {
       "attrs": {
        "height": 0.8,
        "width": 0.8,
        "x": 0.1,
        "y": 0.1
       },
       "content": {
        "cell": "68b54ab6-5a46-488a-bd36-44346c294eab",
        "part": "whole"
       },
       "id": "c4f6da7a-51c2-4147-9add-c9d13568e7e0"
      }
     }
    },
    "21e202ee-5a6a-4313-bf07-08620f81d942": {
     "id": "21e202ee-5a6a-4313-bf07-08620f81d942",
     "prev": "adcc5d8d-fe43-4a03-9cdb-5f572c431291",
     "regions": {
      "ef24d1d1-92e9-473c-b07c-3826744cac43": {
       "attrs": {
        "height": 0.8,
        "width": 0.8,
        "x": 0.1,
        "y": 0.1
       },
       "content": {
        "cell": "c64ebf59-f640-46e2-acc5-bbc812896469",
        "part": "whole"
       },
       "id": "ef24d1d1-92e9-473c-b07c-3826744cac43"
      }
     }
    },
    "44ed6a25-8890-40c0-a4b1-a4896538a2b1": {
     "id": "44ed6a25-8890-40c0-a4b1-a4896538a2b1",
     "prev": "79cc0e29-9f65-453c-b7dc-fc57ee00322f",
     "regions": {
      "cc3d75c2-9ea1-4e2c-84f1-c49ebb3957eb": {
       "attrs": {
        "height": 0.8,
        "width": 0.8,
        "x": 0.1,
        "y": 0.1
       },
       "content": {
        "cell": "c7b6878f-a1de-4724-9fea-d4267a570caa",
        "part": "whole"
       },
       "id": "cc3d75c2-9ea1-4e2c-84f1-c49ebb3957eb"
      }
     }
    },
    "463d2c65-c95c-40fe-ac41-419ce5c770e1": {
     "id": "463d2c65-c95c-40fe-ac41-419ce5c770e1",
     "prev": null,
     "regions": {
      "e8ba32f4-1b9e-4554-be6c-a1a6f1743323": {
       "attrs": {
        "height": 0.8,
        "width": 0.8,
        "x": 0.1,
        "y": 0.1
       },
       "content": {
        "cell": "73a942bf-df2b-4e60-adf9-7f965b3178e8",
        "part": "whole"
       },
       "id": "e8ba32f4-1b9e-4554-be6c-a1a6f1743323"
      }
     }
    },
    "5144e6a5-aabf-431b-8b73-51b5bf003be3": {
     "id": "5144e6a5-aabf-431b-8b73-51b5bf003be3",
     "prev": "8fc01044-2cc6-4c86-bc15-80f8eef2083b",
     "regions": {
      "3d3b2a99-3423-47bc-a7f1-fe6a0f496808": {
       "attrs": {
        "height": 0.8,
        "width": 0.8,
        "x": 0.1,
        "y": 0.1
       },
       "content": {
        "cell": "b5dab713-5600-4f7e-bab1-df6c8ede1fad",
        "part": "whole"
       },
       "id": "3d3b2a99-3423-47bc-a7f1-fe6a0f496808"
      }
     }
    },
    "6c7c24f8-0722-4b3b-bdec-effaafc814fe": {
     "id": "6c7c24f8-0722-4b3b-bdec-effaafc814fe",
     "prev": "6cdd2c87-02f7-499a-8030-65fa207d76b1",
     "regions": {
      "e28b715f-e86c-4784-a43f-9d65098210a5": {
       "attrs": {
        "height": 0.8,
        "width": 0.8,
        "x": 0.1,
        "y": 0.1
       },
       "content": {
        "cell": "1c7390cf-00b9-4ee9-a79d-86a7c0887cdc",
        "part": "whole"
       },
       "id": "e28b715f-e86c-4784-a43f-9d65098210a5"
      }
     }
    },
    "6cdd2c87-02f7-499a-8030-65fa207d76b1": {
     "id": "6cdd2c87-02f7-499a-8030-65fa207d76b1",
     "prev": "21e202ee-5a6a-4313-bf07-08620f81d942",
     "regions": {
      "7555a352-9cab-4108-a4bf-7901bfa0aa3f": {
       "attrs": {
        "height": 0.8,
        "width": 0.8,
        "x": 0.1,
        "y": 0.1
       },
       "content": {
        "cell": "ae8ace07-b0f3-4852-86d8-1e440bdbba6d",
        "part": "whole"
       },
       "id": "7555a352-9cab-4108-a4bf-7901bfa0aa3f"
      }
     }
    },
    "79cc0e29-9f65-453c-b7dc-fc57ee00322f": {
     "id": "79cc0e29-9f65-453c-b7dc-fc57ee00322f",
     "prev": "5144e6a5-aabf-431b-8b73-51b5bf003be3",
     "regions": {
      "062f0f49-9ba1-4524-a672-cfcd23c6cd55": {
       "attrs": {
        "height": 0.8,
        "width": 0.8,
        "x": 0.1,
        "y": 0.1
       },
       "content": {
        "cell": "bba32401-d1f8-4850-8ae2-06ecc780d40d",
        "part": "whole"
       },
       "id": "062f0f49-9ba1-4524-a672-cfcd23c6cd55"
      }
     }
    },
    "88c5ef34-ff2b-469f-bd01-748a17a41b4c": {
     "id": "88c5ef34-ff2b-469f-bd01-748a17a41b4c",
     "prev": "01c8bf34-0198-4a0b-8903-6abb2adc514a",
     "regions": {
      "8af0d304-fdcb-456d-9050-06c8e825a136": {
       "attrs": {
        "height": 0.8,
        "width": 0.8,
        "x": 0.1,
        "y": 0.1
       },
       "content": {
        "cell": "2bb91ae2-2663-4e59-8923-a3383cb22797",
        "part": "whole"
       },
       "id": "8af0d304-fdcb-456d-9050-06c8e825a136"
      }
     }
    },
    "8fc01044-2cc6-4c86-bc15-80f8eef2083b": {
     "id": "8fc01044-2cc6-4c86-bc15-80f8eef2083b",
     "prev": "463d2c65-c95c-40fe-ac41-419ce5c770e1",
     "regions": {
      "e01b34cf-116d-40d8-b1b9-6b59439477f0": {
       "attrs": {
        "height": 0.8,
        "width": 0.8,
        "x": 0.1,
        "y": 0.1
       },
       "content": {
        "cell": "4744aed4-3ea1-4407-bac6-38c99f524847",
        "part": "whole"
       },
       "id": "e01b34cf-116d-40d8-b1b9-6b59439477f0"
      }
     }
    },
    "96d7d25c-3d92-4e30-be0a-9ba51f6c941f": {
     "id": "96d7d25c-3d92-4e30-be0a-9ba51f6c941f",
     "prev": "ac9d0772-dee4-4867-aecf-773042b84be8",
     "regions": {
      "b2faa737-22fb-40d7-b118-b9e4e9ea7624": {
       "attrs": {
        "height": 0.8,
        "width": 0.8,
        "x": 0.1,
        "y": 0.1
       },
       "content": {
        "cell": "b7ff04f8-0aa0-4484-8ff1-b5a3b7584a90",
        "part": "whole"
       },
       "id": "b2faa737-22fb-40d7-b118-b9e4e9ea7624"
      }
     }
    },
    "ac9d0772-dee4-4867-aecf-773042b84be8": {
     "id": "ac9d0772-dee4-4867-aecf-773042b84be8",
     "prev": "b63a89de-ac0c-41ef-967e-4dfcf071e983",
     "regions": {
      "dcdd554e-b544-4e77-82e4-efc39b74fdca": {
       "attrs": {
        "height": 0.8,
        "width": 0.8,
        "x": 0.1,
        "y": 0.1
       },
       "content": {
        "cell": "609f29ab-dae3-4577-9191-0e9042567442",
        "part": "whole"
       },
       "id": "dcdd554e-b544-4e77-82e4-efc39b74fdca"
      }
     }
    },
    "adcc5d8d-fe43-4a03-9cdb-5f572c431291": {
     "id": "adcc5d8d-fe43-4a03-9cdb-5f572c431291",
     "prev": "f5d44003-3dc2-4049-91c1-3e55155f6fc1",
     "regions": {
      "3f966d49-8259-40e9-8edc-315320916b15": {
       "attrs": {
        "height": 0.8,
        "width": 0.8,
        "x": 0.1,
        "y": 0.1
       },
       "content": {
        "cell": "bd86bbcd-8e84-4014-90b1-b6cba7315752",
        "part": "whole"
       },
       "id": "3f966d49-8259-40e9-8edc-315320916b15"
      }
     }
    },
    "b3f2e0c9-c7ef-4d6e-a581-6f1c024b9a75": {
     "id": "b3f2e0c9-c7ef-4d6e-a581-6f1c024b9a75",
     "prev": "cb76a443-7d34-4dc9-8866-4451d2fa1eb3",
     "regions": {
      "75b29e87-bd02-4792-b256-e257d772019c": {
       "attrs": {
        "height": 0.8,
        "width": 0.8,
        "x": 0.1,
        "y": 0.1
       },
       "content": {
        "cell": "ff51c5ea-362f-42a9-987e-18498fb35833",
        "part": "whole"
       },
       "id": "75b29e87-bd02-4792-b256-e257d772019c"
      }
     }
    },
    "b63a89de-ac0c-41ef-967e-4dfcf071e983": {
     "id": "b63a89de-ac0c-41ef-967e-4dfcf071e983",
     "prev": "44ed6a25-8890-40c0-a4b1-a4896538a2b1",
     "regions": {
      "11239f99-17af-4934-b976-d25b73d79e66": {
       "attrs": {
        "height": 0.8,
        "width": 0.8,
        "x": 0.1,
        "y": 0.1
       },
       "content": {
        "cell": "0703a226-bde1-4542-88bb-3ea3fb7416ee",
        "part": "whole"
       },
       "id": "11239f99-17af-4934-b976-d25b73d79e66"
      }
     }
    },
    "cb76a443-7d34-4dc9-8866-4451d2fa1eb3": {
     "id": "cb76a443-7d34-4dc9-8866-4451d2fa1eb3",
     "prev": "88c5ef34-ff2b-469f-bd01-748a17a41b4c",
     "regions": {
      "a2641a7f-41e1-461f-b905-c5bffdb5f9d9": {
       "attrs": {
        "height": 0.8,
        "width": 0.8,
        "x": 0.1,
        "y": 0.1
       },
       "content": {
        "cell": "2ada651a-4526-4d2f-92b3-3c9aa4ee441c",
        "part": "whole"
       },
       "id": "a2641a7f-41e1-461f-b905-c5bffdb5f9d9"
      }
     }
    },
    "decc8a1a-6f4e-4fe4-8d18-063944efe3c4": {
     "id": "decc8a1a-6f4e-4fe4-8d18-063944efe3c4",
     "prev": "b3f2e0c9-c7ef-4d6e-a581-6f1c024b9a75",
     "regions": {
      "6fa28cc0-b9df-4072-9ce3-8524fde9b518": {
       "attrs": {
        "height": 0.8,
        "width": 0.8,
        "x": 0.1,
        "y": 0.1
       },
       "content": {
        "cell": "08dcd005-5bc6-40b4-b35e-e773050687da",
        "part": "whole"
       },
       "id": "6fa28cc0-b9df-4072-9ce3-8524fde9b518"
      }
     }
    },
    "f5d44003-3dc2-4049-91c1-3e55155f6fc1": {
     "id": "f5d44003-3dc2-4049-91c1-3e55155f6fc1",
     "prev": "96d7d25c-3d92-4e30-be0a-9ba51f6c941f",
     "regions": {
      "6735ed2e-cad9-45ad-a723-7ff327033c87": {
       "attrs": {
        "height": 0.8,
        "width": 0.8,
        "x": 0.1,
        "y": 0.1
       },
       "content": {
        "cell": "4beae1e1-b94b-4069-8f37-f447b6821a24",
        "part": "whole"
       },
       "id": "6735ed2e-cad9-45ad-a723-7ff327033c87"
      }
     }
    }
   },
   "themes": {}
  }
 },
 "nbformat": 4,
 "nbformat_minor": 1
}
